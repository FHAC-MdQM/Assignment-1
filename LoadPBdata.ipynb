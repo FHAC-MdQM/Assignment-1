{
 "cells": [
  {
   "cell_type": "markdown",
   "metadata": {},
   "source": [
    "# Loading and plotting spring parkind brake data"
   ]
  },
  {
   "cell_type": "markdown",
   "metadata": {},
   "source": [
    "We need to load some modules:"
   ]
  },
  {
   "cell_type": "code",
   "execution_count": null,
   "metadata": {},
   "outputs": [],
   "source": [
    "# OS to use file system\n",
    "import os\n",
    "# Matplotlib and the pyplot module for a Matlab-like plot syntax\n",
    "import matplotlib\n",
    "# This is the syntax to import as a named module\n",
    "import matplotlib.pyplot as plt\n",
    "# Pandas is a module for rectangular data \"dataframe\"\n",
    "import pandas as pd\n",
    "# Special module for a very quick analysis\n",
    "from pandas.plotting import scatter_matrix\n",
    "# Plot the graphs in the notebook\n",
    "%matplotlib inline"
   ]
  },
  {
   "cell_type": "markdown",
   "metadata": {},
   "source": [
    "## Data import"
   ]
  },
  {
   "cell_type": "markdown",
   "metadata": {},
   "source": [
    "Of course, we need to get our hands dirty on the data:"
   ]
  },
  {
   "cell_type": "code",
   "execution_count": null,
   "metadata": {},
   "outputs": [],
   "source": [
    "# Import the csv-data to pandas dataframe (canonical name df)\n",
    "df = pd.read_csv(os.path.join(\"SpringPBData.csv\"))\n",
    "# Display the first lines of the df\n",
    "df.head()"
   ]
  },
  {
   "cell_type": "code",
   "execution_count": null,
   "metadata": {},
   "outputs": [],
   "source": [
    "# Rename first column\n",
    "df.rename(columns = {\"Unnamed: 0\":\"Time\"}, inplace = True)\n",
    "# Transform first column from string to datetimeindex\n",
    "df.set_index(pd.to_datetime(df[\"Time\"]), inplace = True)\n",
    "# Delete second ocurrence of time\n",
    "df.drop(\"Time\", axis = 1, inplace = True)\n",
    "df.head()"
   ]
  },
  {
   "cell_type": "markdown",
   "metadata": {},
   "source": [
    "A quick overview of the data properties:"
   ]
  },
  {
   "cell_type": "code",
   "execution_count": null,
   "metadata": {},
   "outputs": [],
   "source": [
    "df.describe()"
   ]
  },
  {
   "cell_type": "markdown",
   "metadata": {},
   "source": [
    "## Plotting the data for exploration"
   ]
  },
  {
   "cell_type": "markdown",
   "metadata": {},
   "source": [
    "A very quick explorative plot:"
   ]
  },
  {
   "cell_type": "code",
   "execution_count": null,
   "metadata": {},
   "outputs": [],
   "source": [
    "q = scatter_matrix(df)"
   ]
  },
  {
   "cell_type": "markdown",
   "metadata": {},
   "source": [
    "I prefer nice plots, I recommend either seaborn:"
   ]
  },
  {
   "cell_type": "code",
   "execution_count": null,
   "metadata": {},
   "outputs": [],
   "source": [
    "import seaborn as sns\n",
    "sns.set()\n",
    "q = scatter_matrix(df)"
   ]
  },
  {
   "cell_type": "markdown",
   "metadata": {},
   "source": [
    "Or plotly:"
   ]
  },
  {
   "cell_type": "code",
   "execution_count": null,
   "metadata": {},
   "outputs": [],
   "source": [
    "import plotly.offline as po\n",
    "import plotly.graph_objs as go\n",
    "# Create the plot data structure\n",
    "data = [go.Histogram(x=df['F'])]\n",
    "# plot to open in new tab\n",
    "url = po.plot(data, filename='simple-histogram.html')"
   ]
  },
  {
   "cell_type": "code",
   "execution_count": null,
   "metadata": {},
   "outputs": [],
   "source": [
    "df.plot(kind=\"scatter\", y=\"F\", x=\"x\", alpha = 0.3, figsize=(7,5), c = \"h1\", cmap = \"coolwarm\")"
   ]
  },
  {
   "cell_type": "markdown",
   "metadata": {},
   "source": [
    "## Manipulation in the dataframe"
   ]
  },
  {
   "cell_type": "markdown",
   "metadata": {},
   "source": [
    "You can receive all indizes' truth value for a given criterion:"
   ]
  },
  {
   "cell_type": "code",
   "execution_count": null,
   "metadata": {},
   "outputs": [],
   "source": [
    "df[\"F\"] > 19000"
   ]
  },
  {
   "cell_type": "markdown",
   "metadata": {},
   "source": [
    "And use this to filter only the required lines in the df. Note that I'm only interested in the Force here, so why not show only \"F\"?"
   ]
  },
  {
   "cell_type": "code",
   "execution_count": null,
   "metadata": {},
   "outputs": [],
   "source": [
    "df[df[\"F\"] > 18000][\"F\"]"
   ]
  },
  {
   "cell_type": "code",
   "execution_count": null,
   "metadata": {},
   "outputs": [],
   "source": []
  }
 ],
 "metadata": {
  "kernelspec": {
   "display_name": "Python 3",
   "language": "python",
   "name": "python3"
  },
  "language_info": {
   "codemirror_mode": {
    "name": "ipython",
    "version": 3
   },
   "file_extension": ".py",
   "mimetype": "text/x-python",
   "name": "python",
   "nbconvert_exporter": "python",
   "pygments_lexer": "ipython3",
   "version": "3.5.4"
  }
 },
 "nbformat": 4,
 "nbformat_minor": 2
}
